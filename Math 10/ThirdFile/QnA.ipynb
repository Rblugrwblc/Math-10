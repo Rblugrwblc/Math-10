{
 "cells": [
  {
   "cell_type": "code",
   "execution_count": 100,
   "metadata": {},
   "outputs": [],
   "source": [
    "import matplotlib.pyplot as plt\n",
    "import seaborn as sns\n",
    "\n",
    "from statsmodels.formula.api import ols\n",
    "import statsmodels.api as sm\n",
    "\n",
    "from scipy import stats\n",
    "from scipy.stats import norm\n",
    "from scipy.stats import linregress\n",
    "\n",
    "import pandas as pd\n",
    "import numpy as np\n",
    "\n",
    "file_path = \"CleanDataFinal.xlsx\"  \n",
    "sheet_name = \"Two Main Variables\"\n",
    "df = pd.read_excel(file_path, sheet_name=sheet_name)\n",
    "\n",
    "df = df.T\n",
    "df.columns = df.iloc[0]\n",
    "df = df.iloc[2:]\n",
    "df.index.name = \"Year\"\n",
    "\n",
    "df.columns = [\"Average Gross Income (PHP)\", \"Housing Price Index (2010 = 100)\"]"
   ]
  },
  {
   "cell_type": "markdown",
   "metadata": {},
   "source": [
    "### INSTRUCTIONS <BR>\n",
    "\n",
    "At least three z-scores computations with varying types of questions <br>\n",
    "At least three percentiles (excluding quartiles) computations with varying types of questions <br>\n",
    "At least three standard normal distribution computations with varying types of questions <br>"
   ]
  },
  {
   "cell_type": "code",
   "execution_count": 3,
   "metadata": {},
   "outputs": [
    {
     "name": "stdout",
     "output_type": "stream",
     "text": [
      "      Z-Score (Income)  Z-Score (HPI)\n",
      "Year                                 \n",
      "1992         -1.362175      -1.628509\n",
      "1993         -1.325557      -1.534306\n",
      "1994         -1.274898      -1.430986\n",
      "1995         -1.217283      -1.358054\n",
      "1996         -1.150980      -1.263851\n",
      "1997         -1.100929      -1.160532\n",
      "1998         -0.968658      -1.032902\n",
      "1999         -0.906075      -0.914388\n",
      "2000         -0.843856      -0.814107\n",
      "2001         -0.759587      -0.668244\n",
      "2002         -0.693536      -0.574041\n",
      "2003         -0.617058      -0.516304\n",
      "2004         -0.489147      -0.464644\n",
      "2005         -0.364335      -0.291432\n",
      "2006         -0.249033      -0.151646\n",
      "2007         -0.151240       0.051954\n",
      "2008          0.027987       0.115769\n",
      "2009          0.058987       0.194778\n",
      "2010          0.146446       0.465232\n",
      "2011          0.311294       0.653638\n",
      "2012          0.477921       0.772152\n",
      "2013          0.621919       0.875472\n",
      "2014          0.781266       1.012218\n",
      "2015          0.886022       0.951442\n",
      "2016          1.039764       0.890666\n",
      "2017          1.249490       1.012218\n",
      "2018          1.476998       1.173275\n",
      "2019          1.628303       1.267478\n",
      "2020          1.323991       1.294828\n",
      "2021          1.516287       1.401186\n",
      "2022          1.927674       1.671640\n"
     ]
    }
   ],
   "source": [
    "df['Average Gross Income (PHP)'] = pd.to_numeric(df['Average Gross Income (PHP)'])\n",
    "df['Housing Price Index (2010 = 100)'] = pd.to_numeric(df['Housing Price Index (2010 = 100)'])\n",
    "\n",
    "z_scores_income = stats.zscore(df['Average Gross Income (PHP)'])\n",
    "z_scores_hpi = stats.zscore(df['Housing Price Index (2010 = 100)'])\n",
    "\n",
    "z_table = pd.DataFrame({\n",
    "    \"Z-Score (Income)\": z_scores_income,\n",
    "    \"Z-Score (HPI)\": z_scores_hpi\n",
    "})\n",
    "\n",
    "print(z_table)"
   ]
  },
  {
   "cell_type": "markdown",
   "metadata": {},
   "source": [
    "### Z-Scores: <br>\n",
    "\n",
    "Q: What is the z-score for the HPI in 2020, is it above or below the mean? What does it mean in the context of the last 30 years?  <br>\n",
    "Q: What are the z-scores for the Average Gross Income in 1995 and 2015? Which year deviates more? What does that mean? <br>\n",
    "  Q: Are there any significant outliers (z-score greater than 3 or -3) in the z-scores of the Housing Price Index and Average Gross Income in the last 30 years? <br>"
   ]
  },
  {
   "cell_type": "code",
   "execution_count": 101,
   "metadata": {},
   "outputs": [
    {
     "name": "stdout",
     "output_type": "stream",
     "text": [
      "Question 1: Calculate z-score for HPI in 2020\n",
      "\n",
      "Z-score for HPI in 2020: 1.2948276167022366\n",
      "The HPI in 2020 is above the mean by approximately 1.2948276167022366 standard deviations.\n"
     ]
    }
   ],
   "source": [
    "hpi_data = df['Housing Price Index (2010 = 100)']\n",
    "mean_hpi = sum(hpi_data) / len(hpi_data)\n",
    "std_dev_hpi = (sum([(x - mean_hpi) ** 2 for x in hpi_data]) / len(hpi_data)) ** 0.5\n",
    "hpi_2020 = df['Housing Price Index (2010 = 100)'].iloc[28]  # 127.3\n",
    "z_score_2020 = (hpi_2020 - mean_hpi) / std_dev_hpi\n",
    "\n",
    "if z_score_2020 > 0:\n",
    "    interpretation = \"The HPI in 2020 is above the mean by approximately {} standard deviations.\".format(z_score_2020)\n",
    "elif z_score_2020 < 0:\n",
    "    interpretation = \"The HPI in 2020 is below the mean by approximately {} standard deviations.\".format(abs(z_score_2020))\n",
    "else:\n",
    "    interpretation = \"The HPI in 2020 is equal to the mean.\"\n",
    "\n",
    "print('Question 1: Calculate z-score for HPI in 2020\\n')\n",
    "print(\"Z-score for HPI in 2020:\", z_score_2020)\n",
    "print(interpretation)"
   ]
  },
  {
   "cell_type": "code",
   "execution_count": 5,
   "metadata": {},
   "outputs": [
    {
     "name": "stdout",
     "output_type": "stream",
     "text": [
      "Question 2: Calculate the z-scores for the Average Gross Income in 1995 and 2015. \n",
      "Which year had a higher z-score, and what does this indicate about income changes over time?\n",
      "\n",
      "Z-score for Income in 1995: -1.2172829193845927\n",
      "Z-score for Income in 2015: 0.8860217360991758\n",
      "1995 had a higher z-score by approximately 0.33126118328541687 standard deviations, \n",
      "indicating a greater deviation in income relative to the mean for that year.\n"
     ]
    }
   ],
   "source": [
    "income_data = df['Average Gross Income (PHP)']\n",
    "mean_income = sum(income_data) / len(income_data)\n",
    "std_dev_income = (sum([(x - mean_income) ** 2 for x in income_data]) / len(income_data)) ** 0.5\n",
    "\n",
    "income_1995 = df['Average Gross Income (PHP)'].iloc[3] \n",
    "income_2015 = df['Average Gross Income (PHP)'].iloc[23] \n",
    "\n",
    "z_score_1995 = (income_1995 - mean_income) / std_dev_income\n",
    "z_score_2015 = (income_2015 - mean_income) / std_dev_income\n",
    "\n",
    "higher_z_score_year = \"1995\" if z_score_1995 > z_score_2015 else \"2015\"\n",
    "\n",
    "print(\"Question 2: Calculate the z-scores for the Average Gross Income in 1995 and 2015. \\nWhich year had a higher z-score, and what does this indicate about income changes over time?\\n\")\n",
    "\n",
    "print(\"Z-score for Income in 1995:\", z_score_1995)\n",
    "print(\"Z-score for Income in 2015:\", z_score_2015)\n",
    "\n",
    "z_score_1995 = abs(z_score_1995)\n",
    "z_score_2015 = abs(z_score_2015)\n",
    "difference = abs(z_score_2015 - z_score_1995)\n",
    "\n",
    "if z_score_1995 > z_score_2015:\n",
    "    interpretation = \"{} had a higher z-score by approximately {} standard deviations, \\nindicating a greater deviation in income relative to the mean for that year.\".format(\"1995\", difference)\n",
    "else:\n",
    "    interpretation = \"{} had a higher z-score by approximately {} standard deviations, \\nindicating a greater deviation in income relative to the mean for that year.\".format(\"2015\", difference)\n",
    "\n",
    "print(interpretation)"
   ]
  },
  {
   "cell_type": "code",
   "execution_count": 30,
   "metadata": {},
   "outputs": [
    {
     "name": "stdout",
     "output_type": "stream",
     "text": [
      "No extreme HPI values were found within the specified threshold of 3.\n",
      "No extreme Incomes values were found within the specified threshold of 3.\n"
     ]
    }
   ],
   "source": [
    "outlier_threshold = 3\n",
    "\n",
    "outliers = [i for i, x in enumerate(hpi_data) if abs((x - mean_hpi) / std_dev_hpi) > outlier_threshold]\n",
    "\n",
    "if outliers:\n",
    "    outlier_values = [hpi_data[i] for i in outliers]\n",
    "    outlier_years = [1992 + i for i in outliers]\n",
    "    explanation = \"The following years have extreme HPI values, which are outliers:\\n\"\n",
    "    for year, value in zip(outlier_years, outlier_values):\n",
    "        explanation += \"Year: {}, HPI Value: {}\\n\".format(year, value)\n",
    "else:\n",
    "    explanation = \"No extreme HPI values were found within the specified threshold of 3.\"\n",
    "\n",
    "print(explanation)\n",
    "\n",
    "outliers = [i for i, x in enumerate(income_data) if abs((x - mean_income) / std_dev_income) > outlier_threshold]\n",
    "\n",
    "if outliers:\n",
    "    outlier_values = [income_data[i] for i in outliers]\n",
    "    outlier_years = [1992 + i for i in outliers]\n",
    "    explanation = \"The following years have extreme HPI values, which are outliers:\\n\"\n",
    "    for year, value in zip(outlier_years, outlier_values):\n",
    "        explanation += \"Year: {}, HPI Value: {}\\n\".format(year, value)\n",
    "else:\n",
    "    explanation = \"No extreme Incomes values were found within the specified threshold of 3.\"\n",
    "\n",
    "print(explanation)"
   ]
  },
  {
   "cell_type": "code",
   "execution_count": 8,
   "metadata": {},
   "outputs": [
    {
     "name": "stdout",
     "output_type": "stream",
     "text": [
      "Percentiles: Average Gross Income (PHP)\n",
      "25th Percentile:  60866.55\n",
      "50th Percentile (Median):  104226.9\n",
      "75th Percentile:  163234.0 \n",
      "\n",
      "Percentiles: Housing Price Index (2010=100)\n",
      "25th Percentile:  56.25\n",
      "50th Percentile (Median):  86.4\n",
      "75th Percentile:  115.0\n"
     ]
    }
   ],
   "source": [
    "percentiles = np.percentile(df['Average Gross Income (PHP)'], [25, 50, 75])\n",
    "percentiles2 = np.percentile(df['Housing Price Index (2010 = 100)'], [25, 50, 75])\n",
    "\n",
    "\n",
    "print(\"Percentiles: Average Gross Income (PHP)\")\n",
    "print(\"25th Percentile: \", percentiles[0]) # P = (n/N) × 100\n",
    "print(\"50th Percentile (Median): \", percentiles[1]) # 15th item\n",
    "print(\"75th Percentile: \", percentiles[2], \"\\n\") # P = (n/N) × 100\n",
    "\n",
    "\n",
    "print(\"Percentiles: Housing Price Index (2010=100)\")\n",
    "print(\"25th Percentile: \", percentiles2[0]) # P = (n/N) × 100\n",
    "print(\"50th Percentile (Median): \", percentiles2[1]) # 15th item\n",
    "print(\"75th Percentile: \", percentiles2[2]) # P = (n/N) × 100\n",
    "\n",
    "# QUARTILES"
   ]
  },
  {
   "cell_type": "markdown",
   "metadata": {},
   "source": [
    "### Percentiles: <br>\n",
    "\n",
    "Q: What is the value of the 40th percentile for Average Gross Income and HPI? What does this mean? <br>\n",
    "\n",
    "Q: At what percentile is Average Gross Income above 100,000? <br>\n",
    "\n",
    "Q: At what percentile is HPI equal to 100? What does this mean about the data when the HPI unit is 2010=100? <br>\n"
   ]
  },
  {
   "cell_type": "code",
   "execution_count": 104,
   "metadata": {},
   "outputs": [
    {
     "name": "stdout",
     "output_type": "stream",
     "text": [
      "The 10th percentile for Average Gross Income is: 40357.4\n",
      "The 60th percentile for Average Gross Income is: 122062.1\n",
      "The 90th percentile for Average Gross Income is: 201779.1\n",
      "\n",
      "The 10th percentile for HPI is: 40.0\n",
      "The 60th percentile for HPI is: 100.0\n",
      "The 90th percentile for HPI is: 126.4\n"
     ]
    }
   ],
   "source": [
    "def find_percentiles(data, percentiles):\n",
    "    return np.percentile(data, percentiles) # https://numpy.org/doc/stable/reference/generated/numpy.percentile.html \n",
    "\n",
    "income_percentiles = find_percentiles(df[\"Average Gross Income (PHP)\"].values, [10, 60, 90])\n",
    "\n",
    "hpi_percentiles = find_percentiles(df[\"Housing Price Index (2010 = 100)\"].values, [10, 60, 90])\n",
    "\n",
    "print(f\"The 10th percentile for Average Gross Income is: {income_percentiles[0]}\")\n",
    "print(f\"The 60th percentile for Average Gross Income is: {income_percentiles[1]}\")\n",
    "print(f\"The 90th percentile for Average Gross Income is: {income_percentiles[2]}\")\n",
    "\n",
    "print(f\"\\nThe 10th percentile for HPI is: {hpi_percentiles[0]}\")\n",
    "print(f\"The 60th percentile for HPI is: {hpi_percentiles[1]}\")\n",
    "print(f\"The 90th percentile for HPI is: {hpi_percentiles[2]}\")"
   ]
  },
  {
   "cell_type": "code",
   "execution_count": 92,
   "metadata": {},
   "outputs": [
    {
     "name": "stdout",
     "output_type": "stream",
     "text": [
      "Average Gross Income is above 100,000 at the 51.61th percentile.\n"
     ]
    }
   ],
   "source": [
    "threshold_value = 100000\n",
    "\n",
    "percentile = (df[\"Average Gross Income (PHP)\"].gt(threshold_value).sum() / len(df)) * 100\n",
    "# Get sum of boolean series if the corresponding element is greater than threshold_value, divide by the length of data frame multiply by 100 to find percentile. \n",
    "# Basically, glorified; P = (n/N) × 100 where n is the instances when income > 100,000\n",
    "\n",
    "print(f\"Average Gross Income is above 100,000 at the {percentile:.2f}th percentile.\")"
   ]
  },
  {
   "cell_type": "code",
   "execution_count": 113,
   "metadata": {},
   "outputs": [
    {
     "name": "stdout",
     "output_type": "stream",
     "text": [
      "Years that are below the threshold value of 100:  18\n",
      "HPI is less than or equal to 100 at the 58.06th percentile.\n"
     ]
    }
   ],
   "source": [
    "threshold_value = 100\n",
    "\n",
    "percentile = (df['Housing Price Index (2010 = 100)'].lt(threshold_value).sum() / len(df)) * 100\n",
    "\n",
    "print(f\"Years that are below the threshold value of 100: \", df['Housing Price Index (2010 = 100)'].lt(threshold_value).sum())\n",
    "\n",
    "print(f\"HPI is less than or equal to 100 at the {percentile:.2f}th percentile.\")\n"
   ]
  },
  {
   "cell_type": "markdown",
   "metadata": {},
   "source": [
    "### Normal distribution <br>\n"
   ]
  },
  {
   "cell_type": "code",
   "execution_count": 22,
   "metadata": {},
   "outputs": [
    {
     "name": "stdout",
     "output_type": "stream",
     "text": [
      "      Z-Score (Income)  Z-Score (HPI)\n",
      "Year                                 \n",
      "1992         -1.362175      -1.628509\n",
      "1993         -1.325557      -1.534306\n",
      "1994         -1.274898      -1.430986\n",
      "1995         -1.217283      -1.358054\n",
      "1996         -1.150980      -1.263851\n",
      "1997         -1.100929      -1.160532\n",
      "1998         -0.968658      -1.032902\n",
      "1999         -0.906075      -0.914388\n",
      "2000         -0.843856      -0.814107\n",
      "2001         -0.759587      -0.668244\n",
      "2002         -0.693536      -0.574041\n",
      "2003         -0.617058      -0.516304\n",
      "2004         -0.489147      -0.464644\n",
      "2005         -0.364335      -0.291432\n",
      "2006         -0.249033      -0.151646\n",
      "2007         -0.151240       0.051954\n",
      "2008          0.027987       0.115769\n",
      "2009          0.058987       0.194778\n",
      "2010          0.146446       0.465232\n",
      "2011          0.311294       0.653638\n",
      "2012          0.477921       0.772152\n",
      "2013          0.621919       0.875472\n",
      "2014          0.781266       1.012218\n",
      "2015          0.886022       0.951442\n",
      "2016          1.039764       0.890666\n",
      "2017          1.249490       1.012218\n",
      "2018          1.476998       1.173275\n",
      "2019          1.628303       1.267478\n",
      "2020          1.323991       1.294828\n",
      "2021          1.516287       1.401186\n",
      "2022          1.927674       1.671640\n"
     ]
    }
   ],
   "source": [
    "df['Average Gross Income (PHP)'] = pd.to_numeric(df['Average Gross Income (PHP)'])\n",
    "df['Housing Price Index (2010 = 100)'] = pd.to_numeric(df['Housing Price Index (2010 = 100)'])\n",
    "\n",
    "z_scores_income = stats.zscore(df['Average Gross Income (PHP)'])\n",
    "z_scores_hpi = stats.zscore(df['Housing Price Index (2010 = 100)'])\n",
    "\n",
    "z_table = pd.DataFrame({\n",
    "    \"Z-Score (Income)\": z_scores_income,\n",
    "    \"Z-Score (HPI)\": z_scores_hpi\n",
    "})\n",
    "\n",
    "print(z_table)"
   ]
  },
  {
   "cell_type": "code",
   "execution_count": 25,
   "metadata": {},
   "outputs": [
    {
     "name": "stdout",
     "output_type": "stream",
     "text": [
      "What are the graphs for the z-scores compared to a normal distribution graph?\n"
     ]
    },
    {
     "data": {
      "image/png": "[encoded data removed]",
      "text/plain": [
       "<Figure size 1200x600 with 1 Axes>"
      ]
     },
     "metadata": {},
     "output_type": "display_data"
    }
   ],
   "source": [
    "print('What is the graph for the z-scores compared to a normal distribution graph?')\n",
    "\n",
    "x = np.linspace(-3, 3, 1000)\n",
    "\n",
    "pdf = stats.norm.pdf(x, loc=0, scale=1) \n",
    "\n",
    "plt.figure(figsize=(12, 6))\n",
    "plt.plot(x, pdf, label='Normal Distribution', color='black')\n",
    "plt.hist(z_scores_income, bins=20, density=True, alpha=0.5, color='blue', label='Income Z-Scores')\n",
    "plt.hist(z_scores_hpi, bins=20, density=True, alpha=0.5, color='red', label='HPI Z-Scores')\n",
    "plt.xlabel('Z-Scores')\n",
    "plt.ylabel('Probability Density')\n",
    "plt.title('Z-scores compared to normal distribution graph')\n",
    "plt.legend()\n",
    "plt.grid(True)\n",
    "plt.show()"
   ]
  }
 ],
 "metadata": {
  "kernelspec": {
   "display_name": "Python 3",
   "language": "python",
   "name": "python3"
  },
  "language_info": {
   "codemirror_mode": {
    "name": "ipython",
    "version": 3
   },
   "file_extension": ".py",
   "mimetype": "text/x-python",
   "name": "python",
   "nbconvert_exporter": "python",
   "pygments_lexer": "ipython3",
   "version": "3.11.4"
  }
 },
 "nbformat": 4,
 "nbformat_minor": 2
}
